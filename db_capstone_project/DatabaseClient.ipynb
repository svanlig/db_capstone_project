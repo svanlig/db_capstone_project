{
 "cells": [
  {
   "cell_type": "code",
   "execution_count": 2,
   "id": "513f4deb-606a-4e3b-8ce8-397ac485b41c",
   "metadata": {
    "tags": []
   },
   "outputs": [
    {
     "name": "stdout",
     "output_type": "stream",
     "text": [
      "Connection between MySQL and Python is established.\n",
      "\n",
      "Cursor is created to communicate with the MySQL using Python.\n",
      "\n"
     ]
    }
   ],
   "source": [
    "#install connector api using the command below.\n",
    "#!pip install mysql-connector-python\n",
    "\n",
    "# Import the MySQL Connector/Python\n",
    "import mysql.connector as connector\n",
    "\n",
    "# Establish connection between Python and MySQL database via connector API\n",
    "connection=connector.connect(\n",
    "                             user=\"root\", # use your own\n",
    "                             password=\"1234\", # use your own\n",
    "                            )\n",
    "print(\"Connection between MySQL and Python is established.\\n\")\n",
    "\n",
    "# Create cursor object to communicate with entire MySQL database\n",
    "cursor = connection.cursor()\n",
    "print(\"Cursor is created to communicate with the MySQL using Python.\\n\")\n"
   ]
  },
  {
   "cell_type": "code",
   "execution_count": 4,
   "id": "7735181e-e101-4b54-9762-48a91e852766",
   "metadata": {
    "tags": []
   },
   "outputs": [
    {
     "name": "stdout",
     "output_type": "stream",
     "text": [
      "The database little_lemon_db is set for use.\n",
      "\n"
     ]
    }
   ],
   "source": [
    "# Set little_lemon database for use \n",
    "cursor.execute(\"USE little_lemon_db\")\n",
    "print(\"The database little_lemon_db is set for use.\\n\")"
   ]
  },
  {
   "cell_type": "code",
   "execution_count": 5,
   "id": "305a0349-0593-427c-8cf1-d8d39c1e515b",
   "metadata": {
    "tags": []
   },
   "outputs": [],
   "source": [
    "sql_query = \"\"\"select CONCAT (GuestFirstName, \" \", GuestLastName) AS FullName, Email, Orders.BillAmount from Bookings\n",
    "INNER JOIN Orders\n",
    "ON Orders.BookingID = Bookings.BookingID\n",
    "WHERE Orders.BillAmount >= 60 ;\"\"\"\n"
   ]
  },
  {
   "cell_type": "code",
   "execution_count": 6,
   "id": "6a37d8c1-bd44-482c-8c84-14529729cf1d",
   "metadata": {
    "tags": []
   },
   "outputs": [
    {
     "name": "stdout",
     "output_type": "stream",
     "text": [
      "Query is executed\n",
      "\n"
     ]
    }
   ],
   "source": [
    "cursor.execute(sql_query)\n",
    "print(\"Query is executed\\n\")"
   ]
  },
  {
   "cell_type": "code",
   "execution_count": 10,
   "id": "22aab62b-3ef5-4dc1-a317-144ce34f472e",
   "metadata": {
    "tags": []
   },
   "outputs": [],
   "source": [
    "results = cursor.fetchall()"
   ]
  },
  {
   "cell_type": "code",
   "execution_count": 11,
   "id": "a48e12cd-0da8-4155-adea-10a2f60114cd",
   "metadata": {
    "tags": []
   },
   "outputs": [
    {
     "name": "stdout",
     "output_type": "stream",
     "text": [
      "('FullName', 'Email', 'BillAmount')\n",
      "('Anna Iversen', 'anna@gmail.com', 65)\n",
      "('Marcos Romero', 'Macron@it.us', 80)\n",
      "('Hiroki Yamane', 'ultraman@jp.com', 85)\n",
      "('Diana Pinto', 'Pinto@door.com', 70)\n",
      "('Anees Java', 'Anees@coffee.com', 60)\n",
      "('Anees Java', 'Anees@coffee.com', 88)\n",
      "('Bald Vin', 'Bald@eagle.com', 120)\n",
      "('Jay Kon', 'Blue@jay.com', 145)\n"
     ]
    }
   ],
   "source": [
    "columns = cursor.column_names\n",
    "print(columns)\n",
    "for column in results:\n",
    "    print(column)"
   ]
  },
  {
   "cell_type": "code",
   "execution_count": null,
   "id": "3b78a01b-96ed-4069-9155-af67ed9989a0",
   "metadata": {},
   "outputs": [],
   "source": []
  }
 ],
 "metadata": {
  "kernelspec": {
   "display_name": "Python 3 (ipykernel)",
   "language": "python",
   "name": "python3"
  },
  "language_info": {
   "codemirror_mode": {
    "name": "ipython",
    "version": 3
   },
   "file_extension": ".py",
   "mimetype": "text/x-python",
   "name": "python",
   "nbconvert_exporter": "python",
   "pygments_lexer": "ipython3",
   "version": "3.11.5"
  }
 },
 "nbformat": 4,
 "nbformat_minor": 5
}
